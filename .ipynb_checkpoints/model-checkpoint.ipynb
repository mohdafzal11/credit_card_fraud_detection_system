{
 "cells": [
  {
   "cell_type": "code",
   "execution_count": 1,
   "id": "27e49c66",
   "metadata": {},
   "outputs": [],
   "source": [
    "import pandas as pd\n",
    "import numpy as np \n",
    "from sklearn.ensemble import  RandomForestClassifier\n",
    "from sklearn.model_selection import  train_test_split\n",
    "import pickle\n",
    "\n",
    "df = pd.read_csv('card_transdata.csv')\n",
    "\n",
    "X=np.array(df.iloc[:,:-1])\n",
    "y=np.array(df.iloc[:,-1])\n",
    "\n",
    "X_train, X_test, y_train, y_test = train_test_split(X, y, test_size=0.2, shuffle = True, random_state=42)\n",
    "\n",
    "model =RandomForestClassifier(n_jobs=2,random_state=0)\n",
    "model.fit(X_train,y_train)\n",
    "\n",
    "pickle.dump(model,open(\"model.pkl\",\"wb\"))"
   ]
  }
 ],
 "metadata": {
  "kernelspec": {
   "display_name": "Python 3 (ipykernel)",
   "language": "python",
   "name": "python3"
  },
  "language_info": {
   "codemirror_mode": {
    "name": "ipython",
    "version": 3
   },
   "file_extension": ".py",
   "mimetype": "text/x-python",
   "name": "python",
   "nbconvert_exporter": "python",
   "pygments_lexer": "ipython3",
   "version": "3.8.8"
  }
 },
 "nbformat": 4,
 "nbformat_minor": 5
}
